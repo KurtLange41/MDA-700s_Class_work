{
 "cells": [
  {
   "cell_type": "markdown",
   "metadata": {},
   "source": [
    "# Predicting Disputes"
   ]
  },
  {
   "cell_type": "code",
   "execution_count": 1,
   "metadata": {},
   "outputs": [],
   "source": [
    "import pandas as pd\n",
    "import numpy as np\n",
    "import matplotlib.pyplot as plt"
   ]
  },
  {
   "cell_type": "code",
   "execution_count": 3,
   "metadata": {},
   "outputs": [],
   "source": [
    "# Load data\n",
    "df = pd.read_csv(\"C:/Users/kurtl/Downloads/complaints-2022-04-06_13_44.csv\")"
   ]
  },
  {
   "cell_type": "code",
   "execution_count": 4,
   "metadata": {},
   "outputs": [],
   "source": [
    "# Drop rows with NaN in 'Consumer Disputed?'\n",
    "df = df.dropna(subset=[\"Consumer disputed?\"])"
   ]
  },
  {
   "cell_type": "code",
   "execution_count": 5,
   "metadata": {},
   "outputs": [
    {
     "data": {
      "text/html": [
       "<div>\n",
       "<style scoped>\n",
       "    .dataframe tbody tr th:only-of-type {\n",
       "        vertical-align: middle;\n",
       "    }\n",
       "\n",
       "    .dataframe tbody tr th {\n",
       "        vertical-align: top;\n",
       "    }\n",
       "\n",
       "    .dataframe thead th {\n",
       "        text-align: right;\n",
       "    }\n",
       "</style>\n",
       "<table border=\"1\" class=\"dataframe\">\n",
       "  <thead>\n",
       "    <tr style=\"text-align: right;\">\n",
       "      <th></th>\n",
       "      <th>Tags</th>\n",
       "      <th>Consumer consent provided?</th>\n",
       "      <th>Submitted via</th>\n",
       "      <th>Company response to consumer</th>\n",
       "      <th>Timely response?</th>\n",
       "      <th>Consumer disputed?</th>\n",
       "    </tr>\n",
       "  </thead>\n",
       "  <tbody>\n",
       "    <tr>\n",
       "      <th>1</th>\n",
       "      <td>None</td>\n",
       "      <td>NaN</td>\n",
       "      <td>Referral</td>\n",
       "      <td>Closed with explanation</td>\n",
       "      <td>Yes</td>\n",
       "      <td>No</td>\n",
       "    </tr>\n",
       "    <tr>\n",
       "      <th>6</th>\n",
       "      <td>None</td>\n",
       "      <td>NaN</td>\n",
       "      <td>Referral</td>\n",
       "      <td>Closed with explanation</td>\n",
       "      <td>Yes</td>\n",
       "      <td>No</td>\n",
       "    </tr>\n",
       "    <tr>\n",
       "      <th>7</th>\n",
       "      <td>None</td>\n",
       "      <td>Consent provided</td>\n",
       "      <td>Web</td>\n",
       "      <td>Closed with explanation</td>\n",
       "      <td>Yes</td>\n",
       "      <td>No</td>\n",
       "    </tr>\n",
       "    <tr>\n",
       "      <th>27</th>\n",
       "      <td>None</td>\n",
       "      <td>Consent provided</td>\n",
       "      <td>Web</td>\n",
       "      <td>Closed with explanation</td>\n",
       "      <td>Yes</td>\n",
       "      <td>No</td>\n",
       "    </tr>\n",
       "    <tr>\n",
       "      <th>32</th>\n",
       "      <td>None</td>\n",
       "      <td>Consent provided</td>\n",
       "      <td>Web</td>\n",
       "      <td>Closed with explanation</td>\n",
       "      <td>Yes</td>\n",
       "      <td>No</td>\n",
       "    </tr>\n",
       "  </tbody>\n",
       "</table>\n",
       "</div>"
      ],
      "text/plain": [
       "    Tags Consumer consent provided? Submitted via  \\\n",
       "1   None                        NaN      Referral   \n",
       "6   None                        NaN      Referral   \n",
       "7   None           Consent provided           Web   \n",
       "27  None           Consent provided           Web   \n",
       "32  None           Consent provided           Web   \n",
       "\n",
       "   Company response to consumer Timely response? Consumer disputed?  \n",
       "1       Closed with explanation              Yes                 No  \n",
       "6       Closed with explanation              Yes                 No  \n",
       "7       Closed with explanation              Yes                 No  \n",
       "27      Closed with explanation              Yes                 No  \n",
       "32      Closed with explanation              Yes                 No  "
      ]
     },
     "execution_count": 5,
     "metadata": {},
     "output_type": "execute_result"
    }
   ],
   "source": [
    "# Choose features\n",
    "X = df[['Tags','Consumer consent provided?', 'Submitted via', 'Company response to consumer', \n",
    "        'Timely response?', 'Consumer disputed?']]\n",
    "X.head()"
   ]
  },
  {
   "cell_type": "code",
   "execution_count": 6,
   "metadata": {},
   "outputs": [],
   "source": [
    "# Create dictionaries for mapping categorical variables\n",
    "tag_map = {'Servicemember': 1, 'None': 2, 'Older American': 3,\n",
    "       'Older American, Servicemember': 4}\n",
    "consumer_map = {'Consent provided': 1, 'Consent not provided': 2, 'Other': 3, 'None': 4}\n",
    "sub_map = {'Web': 1, 'Referral': 2, 'Postal mail': 3, 'Phone': 4, 'Fax': 5, 'Email': 6}\n",
    "response_map = {'Closed with non-monetary relief':1, 'Closed with explanation':2,\n",
    "       'Closed with monetary relief':3, 'Closed':4, 'Closed without relief':5,\n",
    "       'Closed with relief':6, 'Untimely response':7}\n",
    "time_map = {'Yes': 1, 'No': 0}"
   ]
  },
  {
   "cell_type": "code",
   "execution_count": 7,
   "metadata": {},
   "outputs": [
    {
     "name": "stderr",
     "output_type": "stream",
     "text": [
      "C:\\Users\\kurtl\\AppData\\Local\\Temp\\ipykernel_16616\\54095789.py:2: SettingWithCopyWarning: \n",
      "A value is trying to be set on a copy of a slice from a DataFrame.\n",
      "Try using .loc[row_indexer,col_indexer] = value instead\n",
      "\n",
      "See the caveats in the documentation: https://pandas.pydata.org/pandas-docs/stable/user_guide/indexing.html#returning-a-view-versus-a-copy\n",
      "  X['Tags'] = X['Tags'].map(tag_map)\n",
      "C:\\Users\\kurtl\\AppData\\Local\\Temp\\ipykernel_16616\\54095789.py:3: SettingWithCopyWarning: \n",
      "A value is trying to be set on a copy of a slice from a DataFrame.\n",
      "Try using .loc[row_indexer,col_indexer] = value instead\n",
      "\n",
      "See the caveats in the documentation: https://pandas.pydata.org/pandas-docs/stable/user_guide/indexing.html#returning-a-view-versus-a-copy\n",
      "  X['Consumer consent provided?'] = X['Consumer consent provided?'].map(consumer_map)\n",
      "C:\\Users\\kurtl\\AppData\\Local\\Temp\\ipykernel_16616\\54095789.py:4: SettingWithCopyWarning: \n",
      "A value is trying to be set on a copy of a slice from a DataFrame.\n",
      "Try using .loc[row_indexer,col_indexer] = value instead\n",
      "\n",
      "See the caveats in the documentation: https://pandas.pydata.org/pandas-docs/stable/user_guide/indexing.html#returning-a-view-versus-a-copy\n",
      "  X['Submitted via'] = X['Submitted via'].map(sub_map)\n",
      "C:\\Users\\kurtl\\AppData\\Local\\Temp\\ipykernel_16616\\54095789.py:5: SettingWithCopyWarning: \n",
      "A value is trying to be set on a copy of a slice from a DataFrame.\n",
      "Try using .loc[row_indexer,col_indexer] = value instead\n",
      "\n",
      "See the caveats in the documentation: https://pandas.pydata.org/pandas-docs/stable/user_guide/indexing.html#returning-a-view-versus-a-copy\n",
      "  X['Timely response?'] = X['Timely response?'].map(time_map)\n",
      "C:\\Users\\kurtl\\AppData\\Local\\Temp\\ipykernel_16616\\54095789.py:6: SettingWithCopyWarning: \n",
      "A value is trying to be set on a copy of a slice from a DataFrame.\n",
      "Try using .loc[row_indexer,col_indexer] = value instead\n",
      "\n",
      "See the caveats in the documentation: https://pandas.pydata.org/pandas-docs/stable/user_guide/indexing.html#returning-a-view-versus-a-copy\n",
      "  X['Company response to consumer'] = X['Company response to consumer'].map(response_map)\n"
     ]
    },
    {
     "data": {
      "text/html": [
       "<div>\n",
       "<style scoped>\n",
       "    .dataframe tbody tr th:only-of-type {\n",
       "        vertical-align: middle;\n",
       "    }\n",
       "\n",
       "    .dataframe tbody tr th {\n",
       "        vertical-align: top;\n",
       "    }\n",
       "\n",
       "    .dataframe thead th {\n",
       "        text-align: right;\n",
       "    }\n",
       "</style>\n",
       "<table border=\"1\" class=\"dataframe\">\n",
       "  <thead>\n",
       "    <tr style=\"text-align: right;\">\n",
       "      <th></th>\n",
       "      <th>Tags</th>\n",
       "      <th>Consumer consent provided?</th>\n",
       "      <th>Submitted via</th>\n",
       "      <th>Company response to consumer</th>\n",
       "      <th>Timely response?</th>\n",
       "      <th>Consumer disputed?</th>\n",
       "    </tr>\n",
       "  </thead>\n",
       "  <tbody>\n",
       "    <tr>\n",
       "      <th>1</th>\n",
       "      <td>2</td>\n",
       "      <td>NaN</td>\n",
       "      <td>2</td>\n",
       "      <td>2</td>\n",
       "      <td>1</td>\n",
       "      <td>No</td>\n",
       "    </tr>\n",
       "    <tr>\n",
       "      <th>6</th>\n",
       "      <td>2</td>\n",
       "      <td>NaN</td>\n",
       "      <td>2</td>\n",
       "      <td>2</td>\n",
       "      <td>1</td>\n",
       "      <td>No</td>\n",
       "    </tr>\n",
       "    <tr>\n",
       "      <th>7</th>\n",
       "      <td>2</td>\n",
       "      <td>1.0</td>\n",
       "      <td>1</td>\n",
       "      <td>2</td>\n",
       "      <td>1</td>\n",
       "      <td>No</td>\n",
       "    </tr>\n",
       "    <tr>\n",
       "      <th>27</th>\n",
       "      <td>2</td>\n",
       "      <td>1.0</td>\n",
       "      <td>1</td>\n",
       "      <td>2</td>\n",
       "      <td>1</td>\n",
       "      <td>No</td>\n",
       "    </tr>\n",
       "    <tr>\n",
       "      <th>32</th>\n",
       "      <td>2</td>\n",
       "      <td>1.0</td>\n",
       "      <td>1</td>\n",
       "      <td>2</td>\n",
       "      <td>1</td>\n",
       "      <td>No</td>\n",
       "    </tr>\n",
       "  </tbody>\n",
       "</table>\n",
       "</div>"
      ],
      "text/plain": [
       "    Tags  Consumer consent provided?  Submitted via  \\\n",
       "1      2                         NaN              2   \n",
       "6      2                         NaN              2   \n",
       "7      2                         1.0              1   \n",
       "27     2                         1.0              1   \n",
       "32     2                         1.0              1   \n",
       "\n",
       "    Company response to consumer  Timely response? Consumer disputed?  \n",
       "1                              2                 1                 No  \n",
       "6                              2                 1                 No  \n",
       "7                              2                 1                 No  \n",
       "27                             2                 1                 No  \n",
       "32                             2                 1                 No  "
      ]
     },
     "execution_count": 7,
     "metadata": {},
     "output_type": "execute_result"
    }
   ],
   "source": [
    "# Map categorical variables in df\n",
    "X['Tags'] = X['Tags'].map(tag_map)\n",
    "X['Consumer consent provided?'] = X['Consumer consent provided?'].map(consumer_map)\n",
    "X['Submitted via'] = X['Submitted via'].map(sub_map)\n",
    "X['Timely response?'] = X['Timely response?'].map(time_map)\n",
    "X['Company response to consumer'] = X['Company response to consumer'].map(response_map)\n",
    "X.head()"
   ]
  },
  {
   "cell_type": "code",
   "execution_count": 8,
   "metadata": {},
   "outputs": [],
   "source": [
    "# Drop any rows with blanks from final df\n",
    "X = X.dropna()"
   ]
  },
  {
   "cell_type": "code",
   "execution_count": 9,
   "metadata": {},
   "outputs": [
    {
     "data": {
      "text/plain": [
       "array([-1, -1, -1, ..., -1, -1, -1])"
      ]
     },
     "execution_count": 9,
     "metadata": {},
     "output_type": "execute_result"
    }
   ],
   "source": [
    "# Create 1d-array with target variable\n",
    "y = np.where(X['Consumer disputed?'] == 'Yes', 1, -1)\n",
    "y"
   ]
  },
  {
   "cell_type": "code",
   "execution_count": 10,
   "metadata": {},
   "outputs": [
    {
     "data": {
      "text/plain": [
       "array([[2., 1., 1., 2., 1.],\n",
       "       [2., 1., 1., 2., 1.],\n",
       "       [2., 1., 1., 2., 1.],\n",
       "       ...,\n",
       "       [3., 3., 1., 2., 1.],\n",
       "       [2., 1., 1., 2., 1.],\n",
       "       [2., 1., 1., 2., 1.]])"
      ]
     },
     "execution_count": 10,
     "metadata": {},
     "output_type": "execute_result"
    }
   ],
   "source": [
    "# Convert X to NumPy array called X2\n",
    "X2 = X.iloc[:,:-1].values\n",
    "X2"
   ]
  },
  {
   "cell_type": "code",
   "execution_count": 11,
   "metadata": {},
   "outputs": [],
   "source": [
    "class Perceptron(object):\n",
    "    '''\n",
    "    Perceptron classifier.\n",
    "    Parameters\n",
    "    ------------\n",
    "    eta : float\n",
    "        learning rate (between 0.0 and 1.0)\n",
    "    n_iter: int \n",
    "        Pass over the training dataset \n",
    "    random_state: int\n",
    "        Random number generator weight for random weights \n",
    "        \n",
    "    Attributes\n",
    "    ----------\n",
    "    w_: 1d-array\n",
    "        weights after fitting \n",
    "    cost_: list\n",
    "        Number of missclassification (updates) on each epoch\n",
    "    '''\n",
    "    \n",
    "    def __init__(self, eta=0.01, n_iter=50, random_state=1):\n",
    "        self.eta = eta\n",
    "        self.n_iter = n_iter\n",
    "        self.random_state = random_state\n",
    "    \n",
    "    def fit(self, X, y):\n",
    "        rgen = np.random.RandomState(self.random_state)\n",
    "        self.w_ = rgen.normal(loc=0.0, scale=0.01, size=1+X.shape[1])\n",
    "        self.cost_ = []\n",
    "        \n",
    "        for _ in range(self.n_iter):\n",
    "            error = 0\n",
    "            for xi, target in zip(X, y):\n",
    "                update = self.eta * (target - self.predict(xi))\n",
    "                self.w_[1:] += update * xi\n",
    "                self.w_[0] += update # bias term\n",
    "                error += int(update != 0.0)\n",
    "            self.cost_.append(error)\n",
    "        return self\n",
    "            \n",
    "    def net_output(self, X):\n",
    "        return np.dot(X, self.w_[1:]) + self.w_[0]\n",
    "    \n",
    "    def predict(self, X):\n",
    "        return np.where(self.net_output(X) >= 0.0, 1, -1)"
   ]
  },
  {
   "cell_type": "code",
   "execution_count": 12,
   "metadata": {},
   "outputs": [],
   "source": [
    "# Run the algorithm\n",
    "ppn = Perceptron(n_iter=10, eta=0.01).fit(X2, y)"
   ]
  },
  {
   "cell_type": "code",
   "execution_count": 13,
   "metadata": {},
   "outputs": [
    {
     "data": {
      "image/png": "[encoded data removed]",
      "text/plain": [
       "<Figure size 432x288 with 1 Axes>"
      ]
     },
     "metadata": {
      "needs_background": "light"
     },
     "output_type": "display_data"
    }
   ],
   "source": [
    "# Visualize the accuracy\n",
    "plt.plot(range(1, len(ppn.cost_) + 1), ppn.cost_, marker='x')\n",
    "plt.xlabel('Epochs')\n",
    "plt.ylabel('Number of updates');"
   ]
  },
  {
   "cell_type": "code",
   "execution_count": 14,
   "metadata": {},
   "outputs": [],
   "source": [
    "class AdalineGD(object):\n",
    "    '''\n",
    "    Parameters:\n",
    "    eta : float\n",
    "        learning rate\n",
    "    n_iter : int\n",
    "        number of epochs\n",
    "    random_state : int\n",
    "        random initial weights generator\n",
    "    \n",
    "    Attributes:\n",
    "    w_ : 1d-array\n",
    "        weights after fitting\n",
    "    cost_ : list\n",
    "        misclassifications in each epoch\n",
    "    '''\n",
    "    \n",
    "    def __init__(self, eta=0.01, n_iter=50, random_state=1):\n",
    "        self.eta = eta\n",
    "        self.n_iter = n_iter\n",
    "        self.random_state = random_state\n",
    "\n",
    "    def fit(self, X, y):\n",
    "        rgen = np.random.RandomState(self.random_state)\n",
    "        self.w_ = rgen.normal(loc=0.0, scale=0.01, size=1+X.shape[1])\n",
    "        self.cost_ = []\n",
    "\n",
    "        for i in range(self.n_iter):\n",
    "            net_output = self.net_output(X)\n",
    "            output = self.activation(net_output)\n",
    "            errors = y - output # column of errors\n",
    "            self.w_[1:] += self.eta * X.T.dot(errors) # sum of weights\n",
    "            self.w_[0] += (self.eta * errors).sum() # bias term\n",
    "            cost = (errors ** 2).sum()\n",
    "            self.cost_.append(cost)\n",
    "        return self \n",
    "    \n",
    "    def net_output(self, X):\n",
    "        return np.dot(X, self.w_[1:]) + self.w_[0]\n",
    "    \n",
    "    def activation(self, X): # linear activation function, something more complicated\n",
    "        return X\n",
    "    \n",
    "    def predict(self, X): # apply step function at the end with activation embedded\n",
    "        return np.where(self.activation(self.net_output(X)) >= 0, 1, -1)"
   ]
  },
  {
   "cell_type": "code",
   "execution_count": 15,
   "metadata": {},
   "outputs": [],
   "source": [
    "# Run the algorithm\n",
    "ada1 = AdalineGD(n_iter=10, eta=0.01).fit(X2, y)"
   ]
  },
  {
   "cell_type": "code",
   "execution_count": 16,
   "metadata": {},
   "outputs": [
    {
     "data": {
      "image/png": "[encoded data removed]",
      "text/plain": [
       "<Figure size 432x288 with 1 Axes>"
      ]
     },
     "metadata": {
      "needs_background": "light"
     },
     "output_type": "display_data"
    }
   ],
   "source": [
    "# Visualize the accuracy\n",
    "plt.plot(range(1, len(ada1.cost_) + 1), ada1.cost_, marker='x')\n",
    "plt.xlabel('Epochs')\n",
    "plt.ylabel('Number of updates');"
   ]
  },
  {
   "cell_type": "code",
   "execution_count": null,
   "metadata": {},
   "outputs": [],
   "source": []
  },
  {
   "cell_type": "code",
   "execution_count": null,
   "metadata": {},
   "outputs": [],
   "source": []
  }
 ],
 "metadata": {
  "kernelspec": {
   "display_name": "Python 3 (ipykernel)",
   "language": "python",
   "name": "python3"
  },
  "language_info": {
   "codemirror_mode": {
    "name": "ipython",
    "version": 3
   },
   "file_extension": ".py",
   "mimetype": "text/x-python",
   "name": "python",
   "nbconvert_exporter": "python",
   "pygments_lexer": "ipython3",
   "version": "3.9.11"
  }
 },
 "nbformat": 4,
 "nbformat_minor": 4
}
