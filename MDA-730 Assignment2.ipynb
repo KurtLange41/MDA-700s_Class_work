{
 "cells": [
  {
   "cell_type": "markdown",
   "id": "860ae2c3",
   "metadata": {},
   "source": [
    "# Assignment 2"
   ]
  },
  {
   "cell_type": "markdown",
   "id": "c9497df4",
   "metadata": {},
   "source": [
    "### Instructions\n",
    "\n",
    "- Use a two-input perceptron to implement the `AND` logic gate.\n",
    "    - Construct four input-output pairs to train the perception. (Hint: refer to the truth table of the `AND` gate.)\n",
    "    - Randomly initialize the weights, then apply the perceptron learning algorithm to tune the weights.\n",
    "- Plot the output of the perceptron above in the coordinate system when the inputs $x_1$ and $x_2$ change within the range $[-2, 2]$. For each point, label '+' when the output is 1 or '_' when the output is -1. In addition, plot the decision boundary. "
   ]
  },
  {
   "cell_type": "code",
   "execution_count": 1,
   "id": "0b685a31",
   "metadata": {},
   "outputs": [],
   "source": [
    "import numpy as np"
   ]
  },
  {
   "cell_type": "code",
   "execution_count": 2,
   "id": "4bc4457b",
   "metadata": {},
   "outputs": [],
   "source": [
    "def compute_output(w, x, b):\n",
    "    z=np.dot(w,x)+b\n",
    "    return np.sign(z)"
   ]
  },
  {
   "cell_type": "markdown",
   "id": "f8d345ba",
   "metadata": {},
   "source": [
    "Set b as -0.10 and testing the scenarios for AND gate"
   ]
  },
  {
   "cell_type": "code",
   "execution_count": 3,
   "id": "e7d167fa",
   "metadata": {},
   "outputs": [
    {
     "name": "stdout",
     "output_type": "stream",
     "text": [
      "input= [1 1] output= 1.0\n",
      "input= [ 1 -1] output= -1.0\n",
      "input= [-1  1] output= -1.0\n",
      "input= [-1 -1] output= -1.0\n"
     ]
    }
   ],
   "source": [
    "W=np.array([-0.10,1,1])\n",
    "X=np.array([1,1,1])\n",
    "print('input=',X[1:],'output=',compute_output(W,X,W[0]))\n",
    "\n",
    "X=np.array([1,1,-1])\n",
    "print('input=',X[1:],'output=',compute_output(W,X,W[0]))\n",
    "\n",
    "X=np.array([1,-1,1])\n",
    "print('input=',X[1:],'output=',compute_output(W,X,W[0]))\n",
    "\n",
    "X=np.array([1,-1,-1])\n",
    "print('input=',X[1:],'output=',compute_output(W,X,W[0]))"
   ]
  },
  {
   "cell_type": "markdown",
   "id": "3ed72d22",
   "metadata": {},
   "source": [
    "Plotted output of AND perceptron within [-2,2] and decision boundary"
   ]
  },
  {
   "cell_type": "code",
   "execution_count": 7,
   "id": "135e6231",
   "metadata": {},
   "outputs": [
    {
     "data": {
      "image/png": "[encoded data removed]",
      "text/plain": [
       "<Figure size 432x288 with 1 Axes>"
      ]
     },
     "metadata": {
      "needs_background": "light"
     },
     "output_type": "display_data"
    }
   ],
   "source": [
    "import matplotlib.pyplot as plt\n",
    "%matplotlib inline\n",
    "W=np.array([-0.10,1,1])\n",
    "for x1 in np.arange(-2,2,0.2):\n",
    "    for x2 in np.arange(-2,2,0.2):\n",
    "        X=np.array([1,x1,x2])\n",
    "        if compute_output(W,X,W[0])>0:\n",
    "            plt.plot(x1,x2,'r+')\n",
    "        else:\n",
    "            plt.plot(x1,x2,'b_')\n",
    "\n",
    "plt.title('Output of the AND gate')\n",
    "plt.xlabel('$x_1$')\n",
    "plt.ylabel('$x_2$')\n",
    "plt.plot(1,1,'ko',markersize=10)\n",
    "plt.plot(1,-1,'ko',markersize=10)\n",
    "plt.plot(-1,1,'ko',markersize=10)\n",
    "plt.plot(-1,-1,'ko',markersize=10)\n",
    "\n",
    "xx=np.arange(-2, 2, 0.2)\n",
    "plt.plot(xx, -(-0.10+xx)/1,'g-', linewidth=3)\n",
    "plt.axis([-2,2,-2,2])\n",
    "plt.show() "
   ]
  }
 ],
 "metadata": {
  "kernelspec": {
   "display_name": "Python 3 (ipykernel)",
   "language": "python",
   "name": "python3"
  },
  "language_info": {
   "codemirror_mode": {
    "name": "ipython",
    "version": 3
   },
   "file_extension": ".py",
   "mimetype": "text/x-python",
   "name": "python",
   "nbconvert_exporter": "python",
   "pygments_lexer": "ipython3",
   "version": "3.9.11"
  }
 },
 "nbformat": 4,
 "nbformat_minor": 5
}
